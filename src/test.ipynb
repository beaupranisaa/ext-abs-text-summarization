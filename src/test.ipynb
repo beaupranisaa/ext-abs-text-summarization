{
 "cells": [
  {
   "cell_type": "code",
   "execution_count": 1,
   "id": "5a07ea67-5714-4cf3-8a7b-33205f0d5695",
   "metadata": {},
   "outputs": [],
   "source": [
    "txt = text=\"\"\"A vaccine for the coronavirus will likely be ready by early 2021 but rolling it out safely across India’s 1.3 billion people will be the country’s biggest challenge in fighting its surging epidemic, a leading vaccine scientist told Bloomberg.\n",
    "India, which is host to some of the front-runner vaccine clinical trials, currently has no local infrastructure in place to go beyond immunizing babies and pregnant women, said Gagandeep Kang, professor of microbiology at the Vellore-based Christian Medical College and a member of the WHO’s Global Advisory Committee on Vaccine Safety.\n",
    "The timing of the vaccine is a contentious subject around the world. \n",
    "In the U.S., President Donald Trump has contradicted a top administration health expert by saying a vaccine would be available by October. \n",
    "In India, Prime Minister Narendra Modi’s government had promised an indigenous vaccine as early as mid-August, a claim the government and its apex medical research body has since walked back.\n",
    "\"\"\""
   ]
  },
  {
   "cell_type": "code",
   "execution_count": 2,
   "id": "c4ca5d01-822d-4734-88f8-26626936737c",
   "metadata": {},
   "outputs": [
    {
     "name": "stderr",
     "output_type": "stream",
     "text": [
      "/home/pranisaac/.local/lib/python3.8/site-packages/tqdm/auto.py:22: TqdmWarning: IProgress not found. Please update jupyter and ipywidgets. See https://ipywidgets.readthedocs.io/en/stable/user_install.html\n",
      "  from .autonotebook import tqdm as notebook_tqdm\n"
     ]
    }
   ],
   "source": [
    "from sumy.parsers.plaintext import PlaintextParser\n",
    "from sumy.nlp.tokenizers import Tokenizer\n",
    "import nltk\n",
    "import os\n",
    "from extractive.lsa import *\n",
    "from extractive.luhn import *\n",
    "from nltk import sent_tokenize\n",
    "import transformers\n",
    "from transformers import T5Tokenizer, BertTokenizer\n",
    "import torch\n"
   ]
  },
  {
   "cell_type": "code",
   "execution_count": 3,
   "id": "88abaf88-372a-4426-8931-0dc18e6b2ac1",
   "metadata": {},
   "outputs": [],
   "source": [
    "parser = PlaintextParser.from_string(txt,Tokenizer(\"english\"))"
   ]
  },
  {
   "cell_type": "code",
   "execution_count": 4,
   "id": "66c8afcb-b1e8-4ce4-a596-e5415981c0bc",
   "metadata": {},
   "outputs": [
    {
     "name": "stdout",
     "output_type": "stream",
     "text": [
      "====== word1 ======\n",
      "('vaccine', 'coronavirus', 'likely', 'ready', 'early', 'rolling', 'safely', 'across', 'india', 'billion', 'people', 'country', 'biggest', 'challenge', 'fighting', 'surging', 'epidemic', 'leading', 'vaccine', 'scientist', 'told', 'bloomberg', 'india', 'host', 'front-runner', 'vaccine', 'clinical', 'trials', 'currently', 'local', 'infrastructure', 'place', 'go', 'beyond', 'immunizing', 'babies', 'pregnant', 'women', 'said', 'gagandeep', 'kang', 'professor', 'microbiology', 'vellore-based', 'christian', 'medical', 'college', 'member', 'global', 'advisory', 'committee', 'vaccine', 'safety', 'timing', 'vaccine', 'contentious', 'subject', 'around', 'world', 'president', 'donald', 'trump', 'contradicted', 'top', 'administration', 'health', 'expert', 'saying', 'vaccine', 'would', 'available', 'october', 'india', 'prime', 'minister', 'narendra', 'modi', 'government', 'promised', 'indigenous', 'vaccine', 'early', 'mid-august', 'claim', 'government', 'apex', 'medical', 'research', 'body', 'since', 'walked', 'back')\n",
      "92\n",
      "====== word2 ======\n",
      "('vaccine', 'india', 'early', 'medical', 'government', 'coronavirus', 'likely', 'ready', 'rolling', 'safely', 'across', 'billion', 'people', 'country', 'biggest', 'challenge', 'fighting', 'surging', 'epidemic', 'leading', 'scientist', 'told', 'bloomberg', 'host', 'front-runner', 'clinical', 'trials', 'currently', 'local', 'infrastructure', 'place', 'go', 'beyond', 'immunizing', 'babies', 'pregnant', 'women', 'said', 'gagandeep', 'kang', 'professor', 'microbiology', 'vellore-based', 'christian', 'college', 'member', 'global', 'advisory', 'committee', 'safety', 'timing', 'contentious', 'subject', 'around', 'world', 'president', 'donald', 'trump', 'contradicted', 'top', 'administration', 'health', 'expert', 'saying', 'would', 'available', 'october', 'prime', 'minister', 'narendra', 'modi', 'promised', 'indigenous', 'mid-august', 'claim', 'apex', 'research', 'body', 'since', 'walked', 'back')\n",
      "81\n",
      "====== word3 ======\n",
      "('vaccine', 'india', 'early', 'medical', 'government')\n",
      "5\n",
      "Token count: tensor([97])\n",
      "tensor([0])\n",
      "A vaccine for the coronavirus will likely be ready by early 2021 but rolling it out safely across India’s 1.3 billion people will be the country’s biggest challenge in fighting its surging epidemic, a leading vaccine scientist told Bloomberg. In India, Prime Minister Narendra Modi’s government had promised an indigenous vaccine as early as mid-August, a claim the government and its apex medical research body has since walked back.\n",
      "tensor([97])\n"
     ]
    },
    {
     "name": "stderr",
     "output_type": "stream",
     "text": [
      "/home/pranisaac/.local/lib/python3.8/site-packages/transformers/models/t5/tokenization_t5.py:164: FutureWarning: This tokenizer was incorrectly instantiated with a model max length of 512 which will be corrected in Transformers v5.\n",
      "For now, this behavior is kept to avoid breaking backwards compatibility when padding/encoding with `truncation is True`.\n",
      "- Be aware that you SHOULD NOT rely on t5-small automatically truncating your input to 512 when padding/encoding.\n",
      "- If you want to encode/pad to sequences longer than 512 you can either instantiate this tokenizer with `model_max_length` or pass `max_length` when encoding/padding.\n",
      "- To avoid this warning, please instantiate this tokenizer with `model_max_length` set to your preferred value.\n",
      "  warnings.warn(\n"
     ]
    }
   ],
   "source": [
    "sum_candidates = []\n",
    "summarizer = LuhnSummarizer()\n",
    "\n",
    "paragraph_split = sent_tokenize(txt)\n",
    "sentences = [i for i in paragraph_split]\n",
    "sentence_count = len(sentences)\n",
    "\n",
    "# for i in range(sentence_count):\n",
    "summary = summarizer(parser.document,2)\n",
    "full_summary = ' '.join([sentence._text for sentence in summary])\n",
    "sum_candidates.append(full_summary)\n",
    "\n",
    "tokenizer = T5Tokenizer.from_pretrained(\"t5-small\")\n",
    "source = tokenizer.batch_encode_plus(sum_candidates, max_length = 1024, pad_to_max_length=True, truncation=True, padding=\"max_length\", return_tensors=\"pt\", )    # change to 1024 from 512    \n",
    "token_count = torch.count_nonzero(source['input_ids'], axis = 1)\n",
    "print(\"Token count:\", token_count)\n",
    "idx = (token_count == min(token_count, key=lambda x:abs(x-150))).nonzero().flatten()\n",
    "print(idx)\n",
    "print(sum_candidates[idx])\n",
    "print(token_count[idx])"
   ]
  },
  {
   "cell_type": "code",
   "execution_count": 5,
   "id": "c09720c3-9996-4de9-af04-d8b50fd65158",
   "metadata": {},
   "outputs": [
    {
     "data": {
      "text/plain": [
       "['A vaccine for the coronavirus will likely be ready by early 2021 but rolling it out safely across India’s 1.3 billion people will be the country’s biggest challenge in fighting its surging epidemic, a leading vaccine scientist told Bloomberg.',\n",
       " 'India, which is host to some of the front-runner vaccine clinical trials, currently has no local infrastructure in place to go beyond immunizing babies and pregnant women, said Gagandeep Kang, professor of microbiology at the Vellore-based Christian Medical College and a member of the WHO’s Global Advisory Committee on Vaccine Safety.',\n",
       " 'The timing of the vaccine is a contentious subject around the world.',\n",
       " 'In the U.S., President Donald Trump has contradicted a top administration health expert by saying a vaccine would be available by October.',\n",
       " 'In India, Prime Minister Narendra Modi’s government had promised an indigenous vaccine as early as mid-August, a claim the government and its apex medical research body has since walked back.']"
      ]
     },
     "execution_count": 5,
     "metadata": {},
     "output_type": "execute_result"
    }
   ],
   "source": [
    "sentences"
   ]
  },
  {
   "cell_type": "code",
   "execution_count": 6,
   "id": "fcf84012-6c92-4f75-b99f-dd2f958c0253",
   "metadata": {},
   "outputs": [
    {
     "ename": "SyntaxError",
     "evalue": "EOL while scanning string literal (41933774.py, line 1)",
     "output_type": "error",
     "traceback": [
      "\u001b[0;36m  Input \u001b[0;32mIn [6]\u001b[0;36m\u001b[0m\n\u001b[0;31m    \"A vaccine for the coronavirus will likely be ready by early 2021 but rolling it out safely across India’s 1.3 billion people will be the country’s biggest challenge in fighting its surging epidemic, a leading vaccine scientist told Bloomberg. \\\u001b[0m\n\u001b[0m                                                                                                                                                                                                                                                          ^\u001b[0m\n\u001b[0;31mSyntaxError\u001b[0m\u001b[0;31m:\u001b[0m EOL while scanning string literal\n"
     ]
    }
   ],
   "source": [
    "\"A vaccine for the coronavirus will likely be ready by early 2021 but rolling it out safely across India’s 1.3 billion people will be the country’s biggest challenge in fighting its surging epidemic, a leading vaccine scientist told Bloomberg. \\ \n",
    "In India, Prime Minister Narendra Modi’s government had promised an indigenous vaccine as early as mid-August, a claim the government and its apex medical research body has since walked back.\"\n",
    "\n"
   ]
  }
 ],
 "metadata": {
  "kernelspec": {
   "display_name": "Python 3 (ipykernel)",
   "language": "python",
   "name": "python3"
  },
  "language_info": {
   "codemirror_mode": {
    "name": "ipython",
    "version": 3
   },
   "file_extension": ".py",
   "mimetype": "text/x-python",
   "name": "python",
   "nbconvert_exporter": "python",
   "pygments_lexer": "ipython3",
   "version": "3.8.10"
  }
 },
 "nbformat": 4,
 "nbformat_minor": 5
}
