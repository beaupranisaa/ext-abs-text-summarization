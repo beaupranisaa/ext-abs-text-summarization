{
 "cells": [
  {
   "cell_type": "code",
   "execution_count": 11,
   "id": "8059e670-3049-4afd-ac50-afac34994234",
   "metadata": {},
   "outputs": [],
   "source": [
    "import pandas as pd\n",
    "df = pd.read_csv(\"step3.csv\")"
   ]
  },
  {
   "cell_type": "code",
   "execution_count": 12,
   "id": "17aa1be3-158e-4471-b5f3-2d325917995d",
   "metadata": {},
   "outputs": [
    {
     "data": {
      "text/plain": [
       "'\"I think there is some rebuilding to do because I think people in the early days of moving have had a pretty poor experience,\" Cotton told BBC Sport. \"That could be queuing up on a motorway, couldn\\'t get away from the stadium, couldn\\'t buy a drink at the ground. Cotton, 69, a former England and British and Irish Lions prop returned to Sale - a club he served as both a player and director - after Simon Orange\\'s takeover of the Premiership side in June. He has promised to be active in his role, despite his commitments with his clothing business. \"That is my motivation for giving up the precious thing that I have got, and that is my time. \"I think what was lacking before was that the board weren\\'t very often represented at games home and away, and I think that is very wrong - board members will travel to away games and home games.\" Diamond also confirmed they are close to signing a new full-back and are still looking for another player to add to their backline, with former Bath and London Welsh winger Nick Scott on trial with the club.'"
      ]
     },
     "execution_count": 12,
     "metadata": {},
     "output_type": "execute_result"
    }
   ],
   "source": [
    "df['Shortened Document'][0]"
   ]
  },
  {
   "cell_type": "code",
   "execution_count": 13,
   "id": "aafd440c-5a7f-4dcc-a30a-2671aace2dc2",
   "metadata": {},
   "outputs": [
    {
     "data": {
      "text/plain": [
       "'New Sale Sharks chairman Fran Cotton has conceded they must work to restore their relationship with some fans.'"
      ]
     },
     "execution_count": 13,
     "metadata": {},
     "output_type": "execute_result"
    }
   ],
   "source": [
    "df['Summary'][0]"
   ]
  },
  {
   "cell_type": "code",
   "execution_count": null,
   "id": "467a7b72-cfe5-4ca1-ac18-7dd298fae6ee",
   "metadata": {},
   "outputs": [],
   "source": []
  },
  {
   "cell_type": "code",
   "execution_count": null,
   "id": "638776a4-fa44-4fdb-9ac4-baec08b603ef",
   "metadata": {},
   "outputs": [],
   "source": []
  }
 ],
 "metadata": {
  "kernelspec": {
   "display_name": "Python 3 (ipykernel)",
   "language": "python",
   "name": "python3"
  },
  "language_info": {
   "codemirror_mode": {
    "name": "ipython",
    "version": 3
   },
   "file_extension": ".py",
   "mimetype": "text/x-python",
   "name": "python",
   "nbconvert_exporter": "python",
   "pygments_lexer": "ipython3",
   "version": "3.8.10"
  }
 },
 "nbformat": 4,
 "nbformat_minor": 5
}
