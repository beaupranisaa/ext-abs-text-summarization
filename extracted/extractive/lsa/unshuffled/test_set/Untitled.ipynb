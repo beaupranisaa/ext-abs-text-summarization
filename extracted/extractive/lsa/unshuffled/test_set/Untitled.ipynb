{
 "cells": [
  {
   "cell_type": "code",
   "execution_count": 26,
   "id": "026c32db-5826-449e-b22a-5ff6e3cb441d",
   "metadata": {},
   "outputs": [],
   "source": [
    "import pandas as pd\n",
    "df = pd.read_csv(\"step0.csv\")"
   ]
  },
  {
   "cell_type": "code",
   "execution_count": 27,
   "id": "2916afbc-6e0e-4209-b701-5c81005fd680",
   "metadata": {},
   "outputs": [
    {
     "data": {
      "text/html": [
       "<div>\n",
       "<style scoped>\n",
       "    .dataframe tbody tr th:only-of-type {\n",
       "        vertical-align: middle;\n",
       "    }\n",
       "\n",
       "    .dataframe tbody tr th {\n",
       "        vertical-align: top;\n",
       "    }\n",
       "\n",
       "    .dataframe thead th {\n",
       "        text-align: right;\n",
       "    }\n",
       "</style>\n",
       "<table border=\"1\" class=\"dataframe\">\n",
       "  <thead>\n",
       "    <tr style=\"text-align: right;\">\n",
       "      <th></th>\n",
       "      <th>Unnamed: 0</th>\n",
       "      <th>Sample ids</th>\n",
       "      <th>Document</th>\n",
       "      <th>Shortened Document</th>\n",
       "      <th>Summary</th>\n",
       "      <th>Document length</th>\n",
       "      <th>Shortened Document length</th>\n",
       "    </tr>\n",
       "  </thead>\n",
       "  <tbody>\n",
       "    <tr>\n",
       "      <th>0</th>\n",
       "      <td>0</td>\n",
       "      <td>32300397</td>\n",
       "      <td>The move is in response to an £8m cut in the s...</td>\n",
       "      <td>The move is in response to an £8m cut in the s...</td>\n",
       "      <td>Queen's University Belfast is cutting 236 jobs...</td>\n",
       "      <td>508</td>\n",
       "      <td>249</td>\n",
       "    </tr>\n",
       "  </tbody>\n",
       "</table>\n",
       "</div>"
      ],
      "text/plain": [
       "   Unnamed: 0  Sample ids                                           Document  \\\n",
       "0           0    32300397  The move is in response to an £8m cut in the s...   \n",
       "\n",
       "                                  Shortened Document  \\\n",
       "0  The move is in response to an £8m cut in the s...   \n",
       "\n",
       "                                             Summary  Document length  \\\n",
       "0  Queen's University Belfast is cutting 236 jobs...              508   \n",
       "\n",
       "   Shortened Document length  \n",
       "0                        249  "
      ]
     },
     "execution_count": 27,
     "metadata": {},
     "output_type": "execute_result"
    }
   ],
   "source": [
    "df.head()"
   ]
  },
  {
   "cell_type": "code",
   "execution_count": 28,
   "id": "a049f40e-d207-4dca-8b23-7898b6b757bd",
   "metadata": {},
   "outputs": [
    {
     "data": {
      "text/plain": [
       "'The move is in response to an £8m cut in the subsidy received from the Department of Employment and Learning (DEL). The cut in undergraduate places will come into effect from September 2015. Job losses will be among both academic and non-academic staff and Queen\\'s says no compulsory redundancies should be required. There are currently around 17,000 full-time undergraduate and postgraduate students at the university, and around 3,800 staff. Queen\\'s has a current intake of around 4,500 undergraduates per year. The university aims to reduce the number of student places by 1,010 over the next three years. The BBC understands that there are no immediate plans to close departments or courses, but that the cuts in funding may put some departments and courses at risk. The Education Minister Stephen Farry said he recognised that some students might now choose to study in other areas of the UK because of the cuts facing Northern Ireland\\'s universities. \"Some people will now be forced to look to opportunities in other parts of Great Britain and may not return to our economy,\" he said. \"Defunding our investment in skills, particularly at a time when we\\'re trying to grow the economy does not make a lot of sense. What\\'s happening is we\\'re going backwards. \"The loss of any place is damaging to our economy, all subjects teach our young people critical skills.\" Queen\\'s vice-chancellor Patrick Johnston said the cuts had the potential to damage the reputation of the university. \"The potential negative impact, not just on the university but on the local economy is very significant,\" he said. \"It\\'s the last thing we want to do, but we have to begin to focus on those areas where we can grow the organisation and develop it - it\\'s clear we can no longer depend on the public purse to fund tuition. \"If we\\'re not competitive we will not attract the best students, and we will not attract the best staff.\" Just under £100m, a third of the university\\'s income, comes from the Northern Ireland Executive. DEL\\'s budget was reduced by £62m earlier this year, and its budget for higher education institutions fell from £203m to £186m, a reduction of 8.2%. Ulster University announced in February that it was dropping 53 courses. It will be cutting jobs and student places, but it has not yet revealed how many.'"
      ]
     },
     "execution_count": 28,
     "metadata": {},
     "output_type": "execute_result"
    }
   ],
   "source": [
    "df['Document'][0]"
   ]
  },
  {
   "cell_type": "code",
   "execution_count": 29,
   "id": "2909797a-fd0d-45f9-810d-6807435cdde3",
   "metadata": {},
   "outputs": [
    {
     "data": {
      "text/plain": [
       "'The move is in response to an £8m cut in the subsidy received from the Department of Employment and Learning (DEL). Job losses will be among both academic and non-academic staff and Queen\\'s says no compulsory redundancies should be required. The Education Minister Stephen Farry said he recognised that some students might now choose to study in other areas of the UK because of the cuts facing Northern Ireland\\'s universities. \"Some people will now be forced to look to opportunities in other parts of Great Britain and may not return to our economy,\" he said. \"Defunding our investment in skills, particularly at a time when we\\'re trying to grow the economy does not make a lot of sense. \"The loss of any place is damaging to our economy, all subjects teach our young people critical skills.\" Queen\\'s vice-chancellor Patrick Johnston said the cuts had the potential to damage the reputation of the university. \"It\\'s the last thing we want to do, but we have to begin to focus on those areas where we can grow the organisation and develop it - it\\'s clear we can no longer depend on the public purse to fund tuition.'"
      ]
     },
     "execution_count": 29,
     "metadata": {},
     "output_type": "execute_result"
    }
   ],
   "source": [
    "df['Shortened Document'][0]"
   ]
  },
  {
   "cell_type": "code",
   "execution_count": 38,
   "id": "ed3a3167-bd9f-4cfc-8288-44e689abc423",
   "metadata": {},
   "outputs": [
    {
     "data": {
      "text/plain": [
       "'The cut in undergraduate places will come into effect from September 2015. Job losses will be among both academic and non-academic staff and Queen\\'s says no compulsory redundancies should be required. Queen\\'s has a current intake of around 4,500 undergraduates per year. The BBC understands that there are no immediate plans to close departments or courses, but that the cuts in funding may put some departments and courses at risk. The Education Minister Stephen Farry said he recognised that some students might now choose to study in other areas of the UK because of the cuts facing Northern Ireland\\'s universities. \"Defunding our investment in skills, particularly at a time when we\\'re trying to grow the economy does not make a lot of sense. \"It\\'s the last thing we want to do, but we have to begin to focus on those areas where we can grow the organisation and develop it - it\\'s clear we can no longer depend on the public purse to fund tuition. DEL\\'s budget was reduced by £62m earlier this year, and its budget for higher education institutions fell from £203m to £186m, a reduction of 8.2%. Ulster University announced in February that it was dropping 53 courses.'"
      ]
     },
     "execution_count": 38,
     "metadata": {},
     "output_type": "execute_result"
    }
   ],
   "source": [
    "import pandas as pd\n",
    "df = pd.read_csv(\"step0.csv\")\n",
    "df['Shortened Document'][0]"
   ]
  },
  {
   "cell_type": "code",
   "execution_count": 32,
   "id": "e0957fac-615e-4467-8925-9cc9abb4ca16",
   "metadata": {},
   "outputs": [
    {
     "data": {
      "text/plain": [
       "'Eleven people were killed when a vintage Hawker Hunter jet crashed into traffic on the A27 on 22 August. West Sussex chief fire officer Sean Ruth said the recovery operation was \"extremely challenging\" for crews. Sussex Police have also finished their work at the scene, but their investigations are continuing. Mr Ruth said the fire service had been \"truly humbled\" by the messages of support it had received. \"The thoughts and prayers of everyone at West Sussex Fire and Rescue Service continue to be with the families and friends of those killed and injured in the Shoreham Air Show tragedy,\" he said. He anticipated that Friday would be the last day his crews worked at the scene and wanted to thank people for the \"over-whelming support we have received\". \"In my 27 years of service I have never experienced such an outpouring of gratitude and respect as I have received on behalf of West Sussex Fire and Rescue Service over the last few weeks - from letters and emails, to words of thanks in the street, and from visitors at a number of our local fire stations,\" he said. Det Chief Insp Carwyn Hughes, of Sussex Police, said: \"Our officers and staff have been meticulous and have worked hard over the past three weeks to find answers for the victims\\' families. \"We have now finished work on the A27, however our investigation continues.\" On Thursday, the Air Accidents Investigation Branch (AAIB) said it wanted to interview 51-year-old pilot Andy Hill as soon as possible. Reports that Mr Hill, a former RAF pilot from Sandon, near Buntingford in Hertfordshire, had left hospital have not been confirmed by police. An initial AAIB report said Mr Hill was thrown clear of the aircraft during the later part of the crash, but it is not clear whether he initiated his ejection. After the crash, the pilot\\'s family issued a statement which said they were devastated and deeply saddened by the loss of life and sent prayers and heartfelt condolences to the families of all those affected. West Sussex County Council said the single closed westbound lane of the A27 was expected to be reopened to traffic next week but screens will stay up on the roadside indefinitely for reclamation work on the land to be completed.'"
      ]
     },
     "execution_count": 32,
     "metadata": {},
     "output_type": "execute_result"
    }
   ],
   "source": [
    "import pandas as pd\n",
    "df = pd.read_csv(\"step1.csv\")\n",
    "df['Document'][0]"
   ]
  },
  {
   "cell_type": "code",
   "execution_count": 39,
   "id": "6968daff-b0a9-4a7e-8ec0-9632b53f3b79",
   "metadata": {},
   "outputs": [
    {
     "data": {
      "text/plain": [
       "'West Sussex chief fire officer Sean Ruth said the recovery operation was \"extremely challenging\" for crews. \"In my 27 years of service I have never experienced such an outpouring of gratitude and respect as I have received on behalf of West Sussex Fire and Rescue Service over the last few weeks - from letters and emails, to words of thanks in the street, and from visitors at a number of our local fire stations,\" he said. Det Chief Insp Carwyn Hughes, of Sussex Police, said: \"Our officers and staff have been meticulous and have worked hard over the past three weeks to find answers for the victims\\' families. \"We have now finished work on the A27, however our investigation continues.\" On Thursday, the Air Accidents Investigation Branch (AAIB) said it wanted to interview 51-year-old pilot Andy Hill as soon as possible. Reports that Mr Hill, a former RAF pilot from Sandon, near Buntingford in Hertfordshire, had left hospital have not been confirmed by police. An initial AAIB report said Mr Hill was thrown clear of the aircraft during the later part of the crash, but it is not clear whether he initiated his ejection.'"
      ]
     },
     "execution_count": 39,
     "metadata": {},
     "output_type": "execute_result"
    }
   ],
   "source": [
    "import pandas as pd\n",
    "df = pd.read_csv(\"step1.csv\")\n",
    "df['Shortened Document'][0]"
   ]
  },
  {
   "cell_type": "code",
   "execution_count": 24,
   "id": "549758d3-43b3-46ba-b441-fe0b4fdfbd27",
   "metadata": {},
   "outputs": [
    {
     "data": {
      "text/plain": [
       "'West Sussex chief fire officer Sean Ruth said the recovery operation was \"extremely challenging\" for crews. \"In my 27 years of service I have never experienced such an outpouring of gratitude and respect as I have received on behalf of West Sussex Fire and Rescue Service over the last few weeks - from letters and emails, to words of thanks in the street, and from visitors at a number of our local fire stations,\" he said. Det Chief Insp Carwyn Hughes, of Sussex Police, said: \"Our officers and staff have been meticulous and have worked hard over the past three weeks to find answers for the victims\\' families. \"We have now finished work on the A27, however our investigation continues.\" On Thursday, the Air Accidents Investigation Branch (AAIB) said it wanted to interview 51-year-old pilot Andy Hill as soon as possible. Reports that Mr Hill, a former RAF pilot from Sandon, near Buntingford in Hertfordshire, had left hospital have not been confirmed by police. An initial AAIB report said Mr Hill was thrown clear of the aircraft during the later part of the crash, but it is not clear whether he initiated his ejection.'"
      ]
     },
     "execution_count": 24,
     "metadata": {},
     "output_type": "execute_result"
    }
   ],
   "source": [
    "import pandas as pd\n",
    "df = pd.read_csv(\"step1.csv\")\n",
    "df['Shortened Document'][0]"
   ]
  },
  {
   "cell_type": "code",
   "execution_count": 49,
   "id": "bbff6b62-ede1-40a3-8e5d-72ce53b29640",
   "metadata": {},
   "outputs": [
    {
     "data": {
      "text/plain": [
       "'The world\\'s biggest clothing retailer posted net earnings of €1.26bn (£1.1bn) in the six months to 31 July - up 8% on the same period last year. Sales jumped from €9.4bn to €10.5bn, an increase of 11%. The group\\'s clothes can now be bought online in around 40 countries, it said. Inditex operates eight brands in 90 countries including Pull&Bear, Massimo Dutti and Bershka. How Zara\\'s founder became the richest man in the world - for two days Chairman and chief executive Pablo Isla emphasised the firm\\'s investment in technology, saying the firm had expanded its online stores to 11 new countries in the period. It also launched mobile phone payment in all its Spanish stores, with the objective of \"extending the service to other countries\". This will encompass online apps for all of its brands and a specific app for the whole group called InWallet. Mr Isla said: \"Both our online and bricks-and-mortar stores are seamlessly connected, driven by platforms such as mobile payment, and other technological initiatives that we will continue to develop.\" Tom Gadsby, an analyst at Liberum, said the firm\\'s \"online drive\" was important. \"I expect over the years they may find they don\\'t have to open as many stores to maintain their strong growth rate as the online channel will become increasingly important,\" he said. \"And while Zara is available in many of the territories in which they operate [online], most of their other brands aren\\'t readily available outside Europe online. \"So there is a big opportunity there for them to expand online into new territories.\" The company also said it had benefited from steady economic growth in Spain, where Inditex gets about a fifth of its sales. That country\\'s clothing market grew at an average of 3% in the three-months to the end of July, according to the Spanish statistics agency. All of the group\\'s brands increased their international presence during the period, with 83 new stores opened in 38 countries. In a call with analysts, it said it would open 6-8% of new store space over course of the year. The firm\\'s strong performance sets it apart from European rivals H&M and Next, which have blamed unseasonal weather for below-forecast results this year.'"
      ]
     },
     "execution_count": 49,
     "metadata": {},
     "output_type": "execute_result"
    }
   ],
   "source": [
    "import pandas as pd\n",
    "df = pd.read_csv(\"step2.csv\")\n",
    "df['Document'][0]"
   ]
  },
  {
   "cell_type": "code",
   "execution_count": 31,
   "id": "93be9993-0ad3-448c-8e43-54538e40a17c",
   "metadata": {},
   "outputs": [
    {
     "data": {
      "text/plain": [
       "'The world\\'s biggest clothing retailer posted net earnings of €1.26bn (£1.1bn) in the six months to 31 July - up 8% on the same period last year. Inditex operates eight brands in 90 countries including Pull&Bear, Massimo Dutti and Bershka. Mr Isla said: \"Both our online and bricks-and-mortar stores are seamlessly connected, driven by platforms such as mobile payment, and other technological initiatives that we will continue to develop.\" \"I expect over the years they may find they don\\'t have to open as many stores to maintain their strong growth rate as the online channel will become increasingly important,\" he said. The company also said it had benefited from steady economic growth in Spain, where Inditex gets about a fifth of its sales. That country\\'s clothing market grew at an average of 3% in the three-months to the end of July, according to the Spanish statistics agency. The firm\\'s strong performance sets it apart from European rivals H&M and Next, which have blamed unseasonal weather for below-forecast results this year.'"
      ]
     },
     "execution_count": 31,
     "metadata": {},
     "output_type": "execute_result"
    }
   ],
   "source": [
    "import pandas as pd\n",
    "df = pd.read_csv(\"step2.csv\")\n",
    "df['Shortened Document'][0]"
   ]
  },
  {
   "cell_type": "code",
   "execution_count": 40,
   "id": "39fbf03b-9202-4ba6-95b7-2a298bce8bf6",
   "metadata": {},
   "outputs": [
    {
     "data": {
      "text/plain": [
       "'The group\\'s clothes can now be bought online in around 40 countries, it said. Inditex operates eight brands in 90 countries including Pull&Bear, Massimo Dutti and Bershka. Mr Isla said: \"Both our online and bricks-and-mortar stores are seamlessly connected, driven by platforms such as mobile payment, and other technological initiatives that we will continue to develop.\" Tom Gadsby, an analyst at Liberum, said the firm\\'s \"online drive\" was important. \"I expect over the years they may find they don\\'t have to open as many stores to maintain their strong growth rate as the online channel will become increasingly important,\" he said. \"And while Zara is available in many of the territories in which they operate [online], most of their other brands aren\\'t readily available outside Europe online. The company also said it had benefited from steady economic growth in Spain, where Inditex gets about a fifth of its sales. The firm\\'s strong performance sets it apart from European rivals H&M and Next, which have blamed unseasonal weather for below-forecast results this year.'"
      ]
     },
     "execution_count": 40,
     "metadata": {},
     "output_type": "execute_result"
    }
   ],
   "source": [
    "import pandas as pd\n",
    "df = pd.read_csv(\"step2.csv\")\n",
    "df['Shortened Document'][0]"
   ]
  },
  {
   "cell_type": "code",
   "execution_count": 46,
   "id": "2ea3ab19-53e8-4b73-8272-d29637e35bc0",
   "metadata": {},
   "outputs": [
    {
     "data": {
      "text/plain": [
       "'Attendances have fallen in recent years since the Premiership side moved from Edgeley Park in Stockport to AJ Bell Stadium in Barton in 2012. Sale have moved home games back to Friday nights for the upcoming season. \"I think there is some rebuilding to do because I think people in the early days of moving have had a pretty poor experience,\" Cotton told BBC Sport. \"That could be queuing up on a motorway, couldn\\'t get away from the stadium, couldn\\'t buy a drink at the ground. Listening to the things we\\'re going to do to change that, if people come down from now they will find a very different experience. \"The infrastructure is still well away from where it needs to be but there are plans to develop that.\" Cotton, 69, a former England and British and Irish Lions prop returned to Sale - a club he served as both a player and director - after Simon Orange\\'s takeover of the Premiership side in June. He has promised to be active in his role, despite his commitments with his clothing business. \"What I really want to see is a very strong north of England club that can compete at the highest level,\" he added. \"That is my motivation for giving up the precious thing that I have got, and that is my time. \"I think what was lacking before was that the board weren\\'t very often represented at games home and away, and I think that is very wrong - board members will travel to away games and home games.\" One of the standout announcements from Sale\\'s new 10-man board was that director of rugby Steve Diamond will have a seat on it. However, Cotton insists there will be no conflict of interest with a member of the coaching staff also working as a director. \"It will put no strain whatsoever on the relationship, we\\'re here to support him,\" Cotton continued. \"We\\'ll be working very closely with Diamond to make sure we can achieve the ambition which we all hold - if we went down we\\'d still be with them.\" Diamond also confirmed they are close to signing a new full-back and are still looking for another player to add to their backline, with former Bath and London Welsh winger Nick Scott on trial with the club.'"
      ]
     },
     "execution_count": 46,
     "metadata": {},
     "output_type": "execute_result"
    }
   ],
   "source": [
    "import pandas as pd\n",
    "df = pd.read_csv(\"step3.csv\")\n",
    "df['Document'][0]"
   ]
  },
  {
   "cell_type": "code",
   "execution_count": 35,
   "id": "066e5209-4651-4f24-9610-7a0fac1a4ee5",
   "metadata": {},
   "outputs": [
    {
     "data": {
      "text/plain": [
       "'Attendances have fallen in recent years since the Premiership side moved from Edgeley Park in Stockport to AJ Bell Stadium in Barton in 2012. Cotton, 69, a former England and British and Irish Lions prop returned to Sale - a club he served as both a player and director - after Simon Orange\\'s takeover of the Premiership side in June. \"What I really want to see is a very strong north of England club that can compete at the highest level,\" he added. One of the standout announcements from Sale\\'s new 10-man board was that director of rugby Steve Diamond will have a seat on it. However, Cotton insists there will be no conflict of interest with a member of the coaching staff also working as a director. \"We\\'ll be working very closely with Diamond to make sure we can achieve the ambition which we all hold - if we went down we\\'d still be with them.\" Diamond also confirmed they are close to signing a new full-back and are still looking for another player to add to their backline, with former Bath and London Welsh winger Nick Scott on trial with the club.'"
      ]
     },
     "execution_count": 35,
     "metadata": {},
     "output_type": "execute_result"
    }
   ],
   "source": [
    "import pandas as pd\n",
    "df = pd.read_csv(\"step3.csv\")\n",
    "df['Shortened Document'][0]"
   ]
  },
  {
   "cell_type": "code",
   "execution_count": 47,
   "id": "34753a73-8277-43b9-89ff-8aead249722a",
   "metadata": {},
   "outputs": [
    {
     "data": {
      "text/plain": [
       "'Sale have moved home games back to Friday nights for the upcoming season. \"I think there is some rebuilding to do because I think people in the early days of moving have had a pretty poor experience,\" Cotton told BBC Sport. \"What I really want to see is a very strong north of England club that can compete at the highest level,\" he added. \"I think what was lacking before was that the board weren\\'t very often represented at games home and away, and I think that is very wrong - board members will travel to away games and home games.\" One of the standout announcements from Sale\\'s new 10-man board was that director of rugby Steve Diamond will have a seat on it. However, Cotton insists there will be no conflict of interest with a member of the coaching staff also working as a director. \"It will put no strain whatsoever on the relationship, we\\'re here to support him,\" Cotton continued. Diamond also confirmed they are close to signing a new full-back and are still looking for another player to add to their backline, with former Bath and London Welsh winger Nick Scott on trial with the club.'"
      ]
     },
     "execution_count": 47,
     "metadata": {},
     "output_type": "execute_result"
    }
   ],
   "source": [
    "import pandas as pd\n",
    "df = pd.read_csv(\"step3.csv\")\n",
    "df['Shortened Document'][0]"
   ]
  },
  {
   "cell_type": "code",
   "execution_count": 43,
   "id": "1ddf613d-8025-4940-878e-b1ec9d109ef2",
   "metadata": {},
   "outputs": [
    {
     "data": {
      "text/plain": [
       "'The film about a princess\\'s mythical journey in ancient Polynesia took an estimated $81.1m (£65.3m) on its debut. That makes it the second-highest Thanksgiving debut of all time, behind Disney\\'s Frozen, which took $93.6m (£75.3m) on its release in 2013. Some observers have said that Moana and its merchandise are appropriating Pacific Island culture. Disney withdrew a children\\'s costume promoting the film after activists branded it \"brownface\", or mocking of their culture by stereotyping. The costume, a full-body suit with brown skin, traditional tattoos, grass skirt and bone necklace, represented the character Maui, considered a demi-god and ancestor by many Polynesians. Disney said it regretted any offence. JK Rowling\\'s Fantastic Beasts and Where to Find Them fell to second on the US chart, taking $65.8m (£53m). Gossip surrounding Brad Pitt\\'s marriage break-up failed to spark a huge amount of interest in his World War Two romance Allied, which also stars Marion Cotillard. It took $18m (£14.4m) over the long weekend, having cost $85m (£68.5m) to make, landing in fourth spot behind Doctor Strange. Kyle Davies, Paramount\\'s head of domestic distribution, said the film appealed to \"older audiences\" but noted those \"don\\'t storm the theatres [on] weekend one\". \"I think they\\'re going to take their time,\" he added. Warren Beatty fared worse - his first film in 15 years, the 1950s Hollywood comedy Rules Don\\'t Apply, took just $2.2m (£1.7m). The film is Beatty\\'s first directed feature since 1998\\'s Bulworth. Bad Santa 2, released 13 years after the original and again starring Billy Bob Thornton, did a little better, taking $9m (£7.3m). Follow us on Facebook, on Twitter @BBCNewsEnts, or on Instagram at bbcnewsents. If you have a story suggestion email entertainment.news@bbc.co.uk.'"
      ]
     },
     "execution_count": 43,
     "metadata": {},
     "output_type": "execute_result"
    }
   ],
   "source": [
    "import pandas as pd\n",
    "df = pd.read_csv(\"step4.csv\")\n",
    "df['Document'][0]"
   ]
  },
  {
   "cell_type": "code",
   "execution_count": 36,
   "id": "a39ff8d4-452a-4dfe-a077-b27502cf8f3b",
   "metadata": {},
   "outputs": [
    {
     "data": {
      "text/plain": [
       "'Disney withdrew a children\\'s costume promoting the film after activists branded it \"brownface\", or mocking of their culture by stereotyping. The costume, a full-body suit with brown skin, traditional tattoos, grass skirt and bone necklace, represented the character Maui, considered a demi-god and ancestor by many Polynesians. Gossip surrounding Brad Pitt\\'s marriage break-up failed to spark a huge amount of interest in his World War Two romance Allied, which also stars Marion Cotillard. It took $18m (£14.4m) over the long weekend, having cost $85m (£68.5m) to make, landing in fourth spot behind Doctor Strange. Kyle Davies, Paramount\\'s head of domestic distribution, said the film appealed to \"older audiences\" but noted those \"don\\'t storm the theatres [on] weekend one\". Warren Beatty fared worse - his first film in 15 years, the 1950s Hollywood comedy Rules Don\\'t Apply, took just $2.2m (£1.7m). Bad Santa 2, released 13 years after the original and again starring Billy Bob Thornton, did a little better, taking $9m (£7.3m).'"
      ]
     },
     "execution_count": 36,
     "metadata": {},
     "output_type": "execute_result"
    }
   ],
   "source": [
    "import pandas as pd\n",
    "df = pd.read_csv(\"step4.csv\")\n",
    "df['Shortened Document'][0]"
   ]
  },
  {
   "cell_type": "code",
   "execution_count": 45,
   "id": "b55e1815-d1b5-40da-ad21-d60a1f1751ee",
   "metadata": {},
   "outputs": [
    {
     "data": {
      "text/plain": [
       "'The film about a princess\\'s mythical journey in ancient Polynesia took an estimated $81.1m (£65.3m) on its debut. That makes it the second-highest Thanksgiving debut of all time, behind Disney\\'s Frozen, which took $93.6m (£75.3m) on its release in 2013. Disney withdrew a children\\'s costume promoting the film after activists branded it \"brownface\", or mocking of their culture by stereotyping. Gossip surrounding Brad Pitt\\'s marriage break-up failed to spark a huge amount of interest in his World War Two romance Allied, which also stars Marion Cotillard. It took $18m (£14.4m) over the long weekend, having cost $85m (£68.5m) to make, landing in fourth spot behind Doctor Strange. Warren Beatty fared worse - his first film in 15 years, the 1950s Hollywood comedy Rules Don\\'t Apply, took just $2.2m (£1.7m). Bad Santa 2, released 13 years after the original and again starring Billy Bob Thornton, did a little better, taking $9m (£7.3m).'"
      ]
     },
     "execution_count": 45,
     "metadata": {},
     "output_type": "execute_result"
    }
   ],
   "source": [
    "import pandas as pd\n",
    "df = pd.read_csv(\"step4.csv\")\n",
    "df['Shortened Document'][0]"
   ]
  },
  {
   "cell_type": "code",
   "execution_count": 44,
   "id": "ccda27cb-46be-47c8-bf45-5d308e47b075",
   "metadata": {},
   "outputs": [
    {
     "data": {
      "text/plain": [
       "\"Disney's latest animation Moana dominated the Thanksgiving box office over the five-day US holiday weekend.\""
      ]
     },
     "execution_count": 44,
     "metadata": {},
     "output_type": "execute_result"
    }
   ],
   "source": [
    "df['Summary'][0]"
   ]
  },
  {
   "cell_type": "code",
   "execution_count": null,
   "id": "d1b6fc77-24f5-4b69-90cd-87c3b734d7d5",
   "metadata": {},
   "outputs": [],
   "source": []
  }
 ],
 "metadata": {
  "kernelspec": {
   "display_name": "Python 3 (ipykernel)",
   "language": "python",
   "name": "python3"
  },
  "language_info": {
   "codemirror_mode": {
    "name": "ipython",
    "version": 3
   },
   "file_extension": ".py",
   "mimetype": "text/x-python",
   "name": "python",
   "nbconvert_exporter": "python",
   "pygments_lexer": "ipython3",
   "version": "3.8.10"
  }
 },
 "nbformat": 4,
 "nbformat_minor": 5
}
